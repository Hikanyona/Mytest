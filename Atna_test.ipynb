{
  "nbformat": 4,
  "nbformat_minor": 0,
  "metadata": {
    "colab": {
      "name": "Atna_test.ipynb",
      "provenance": [],
      "collapsed_sections": [],
      "include_colab_link": true
    },
    "kernelspec": {
      "name": "python3",
      "display_name": "Python 3"
    }
  },
  "cells": [
    {
      "cell_type": "markdown",
      "metadata": {
        "id": "view-in-github",
        "colab_type": "text"
      },
      "source": [
        "<a href=\"https://colab.research.google.com/github/Hikanyona/Mytest/blob/master/Atna_test.ipynb\" target=\"_parent\"><img src=\"https://colab.research.google.com/assets/colab-badge.svg\" alt=\"Open In Colab\"/></a>"
      ]
    },
    {
      "cell_type": "markdown",
      "metadata": {
        "id": "o8ihYIc3-OrY",
        "colab_type": "text"
      },
      "source": [
        "DDM "
      ]
    },
    {
      "cell_type": "code",
      "metadata": {
        "id": "Roh94RLMAUoF",
        "colab_type": "code",
        "outputId": "69f771a3-e6c7-4498-bb0c-54446b22851b",
        "colab": {
          "base_uri": "https://localhost:8080/",
          "height": 125
        }
      },
      "source": [
        "from google.colab import drive\n",
        "drive.mount('/content/drive')"
      ],
      "execution_count": 0,
      "outputs": [
        {
          "output_type": "stream",
          "text": [
            "Go to this URL in a browser: https://accounts.google.com/o/oauth2/auth?client_id=947318989803-6bn6qk8qdgf4n4g3pfee6491hc0brc4i.apps.googleusercontent.com&redirect_uri=urn%3Aietf%3Awg%3Aoauth%3A2.0%3Aoob&scope=email%20https%3A%2F%2Fwww.googleapis.com%2Fauth%2Fdocs.test%20https%3A%2F%2Fwww.googleapis.com%2Fauth%2Fdrive%20https%3A%2F%2Fwww.googleapis.com%2Fauth%2Fdrive.photos.readonly%20https%3A%2F%2Fwww.googleapis.com%2Fauth%2Fpeopleapi.readonly&response_type=code\n",
            "\n",
            "Enter your authorization code:\n",
            "··········\n",
            "Mounted at /content/drive\n"
          ],
          "name": "stdout"
        }
      ]
    },
    {
      "cell_type": "code",
      "metadata": {
        "id": "1hLT2JHp-V9C",
        "colab_type": "code",
        "colab": {}
      },
      "source": [
        "import numpy as np\n",
        "import matplotlib\n",
        "import matplotlib.pyplot as plt\n",
        "import pandas as pd\n",
        "import matplotlib as mpl\n",
        "\n",
        "%matplotlib inline\n",
        "mpl.rcParams['figure.figsize'] = (15, 8)"
      ],
      "execution_count": 0,
      "outputs": []
    },
    {
      "cell_type": "markdown",
      "metadata": {
        "id": "tSExh63LaYyr",
        "colab_type": "text"
      },
      "source": [
        "pd.read_csv?"
      ]
    },
    {
      "cell_type": "code",
      "metadata": {
        "id": "dGNK-Q_EabMC",
        "colab_type": "code",
        "colab": {}
      },
      "source": [
        "pd.read_csv?"
      ],
      "execution_count": 0,
      "outputs": []
    },
    {
      "cell_type": "code",
      "metadata": {
        "id": "nKwDOH9FA9F2",
        "colab_type": "code",
        "outputId": "393cefb8-a717-418a-da05-1478e8834799",
        "colab": {
          "base_uri": "https://localhost:8080/",
          "height": 233
        }
      },
      "source": [
        "data = pd.read_csv(\"/content/drive/My Drive/NVE/atna.csv\", sep=';', header='infer',\n",
        "                   dayfirst=True,\n",
        "                   index_col=0, # you can use the date as the index for pandas\n",
        "                   parse_dates=[0]) # where is the time stamp?)\n",
        "data.head()\n",
        "#data['Date']\n",
        "#plt.plot(data['Date'], data['Q'])  # did not work for TS\n",
        "#data.plot(y='P')\n",
        "#fig, ax=plt.subplot(3, sharex='all')\n",
        "#ax[0].data.plot(y='P') # did not work for TS\n",
        "#ax[1].data.plot(y='T') # did not work for TS\n",
        "#ax[2].data.plot(y='Q') # did not work for TS"
      ],
      "execution_count": 0,
      "outputs": [
        {
          "output_type": "execute_result",
          "data": {
            "text/html": [
              "<div>\n",
              "<style scoped>\n",
              "    .dataframe tbody tr th:only-of-type {\n",
              "        vertical-align: middle;\n",
              "    }\n",
              "\n",
              "    .dataframe tbody tr th {\n",
              "        vertical-align: top;\n",
              "    }\n",
              "\n",
              "    .dataframe thead th {\n",
              "        text-align: right;\n",
              "    }\n",
              "</style>\n",
              "<table border=\"1\" class=\"dataframe\">\n",
              "  <thead>\n",
              "    <tr style=\"text-align: right;\">\n",
              "      <th></th>\n",
              "      <th>P</th>\n",
              "      <th>T</th>\n",
              "      <th>Q</th>\n",
              "    </tr>\n",
              "    <tr>\n",
              "      <th>Date</th>\n",
              "      <th></th>\n",
              "      <th></th>\n",
              "      <th></th>\n",
              "    </tr>\n",
              "  </thead>\n",
              "  <tbody>\n",
              "    <tr>\n",
              "      <th>1981-01-01</th>\n",
              "      <td>0.43</td>\n",
              "      <td>-7.91</td>\n",
              "      <td>4.136</td>\n",
              "    </tr>\n",
              "    <tr>\n",
              "      <th>1981-01-02</th>\n",
              "      <td>0.33</td>\n",
              "      <td>-8.25</td>\n",
              "      <td>3.955</td>\n",
              "    </tr>\n",
              "    <tr>\n",
              "      <th>1981-01-03</th>\n",
              "      <td>0.00</td>\n",
              "      <td>-13.08</td>\n",
              "      <td>3.955</td>\n",
              "    </tr>\n",
              "    <tr>\n",
              "      <th>1981-01-04</th>\n",
              "      <td>0.03</td>\n",
              "      <td>-18.60</td>\n",
              "      <td>3.778</td>\n",
              "    </tr>\n",
              "    <tr>\n",
              "      <th>1981-01-05</th>\n",
              "      <td>0.00</td>\n",
              "      <td>-22.87</td>\n",
              "      <td>3.778</td>\n",
              "    </tr>\n",
              "  </tbody>\n",
              "</table>\n",
              "</div>"
            ],
            "text/plain": [
              "               P      T      Q\n",
              "Date                          \n",
              "1981-01-01  0.43  -7.91  4.136\n",
              "1981-01-02  0.33  -8.25  3.955\n",
              "1981-01-03  0.00 -13.08  3.955\n",
              "1981-01-04  0.03 -18.60  3.778\n",
              "1981-01-05  0.00 -22.87  3.778"
            ]
          },
          "metadata": {
            "tags": []
          },
          "execution_count": 47
        }
      ]
    },
    {
      "cell_type": "code",
      "metadata": {
        "id": "Mz50dok3j5-Q",
        "colab_type": "code",
        "outputId": "cb7689a9-df07-4c8a-89ac-d5ed95c5fc2d",
        "colab": {
          "base_uri": "https://localhost:8080/",
          "height": 517
        }
      },
      "source": [
        "data.plot(y='Q')"
      ],
      "execution_count": 0,
      "outputs": [
        {
          "output_type": "execute_result",
          "data": {
            "text/plain": [
              "<matplotlib.axes._subplots.AxesSubplot at 0x7fda4b9f7f60>"
            ]
          },
          "metadata": {
            "tags": []
          },
          "execution_count": 107
        },
        {
          "output_type": "display_data",
          "data": {
            "image/png": "[encoded data removed]",
            "text/plain": [
              "<Figure size 1080x576 with 1 Axes>"
            ]
          },
          "metadata": {
            "tags": []
          }
        }
      ]
    },
    {
      "cell_type": "code",
      "metadata": {
        "id": "bQw39AkeXokJ",
        "colab_type": "code",
        "outputId": "84d0e87b-3ecb-4a0a-be40-17a11eed7bb9",
        "colab": {
          "base_uri": "https://localhost:8080/",
          "height": 1000
        }
      },
      "source": [
        "data.head(100)"
      ],
      "execution_count": 0,
      "outputs": [
        {
          "output_type": "execute_result",
          "data": {
            "text/html": [
              "<div>\n",
              "<style scoped>\n",
              "    .dataframe tbody tr th:only-of-type {\n",
              "        vertical-align: middle;\n",
              "    }\n",
              "\n",
              "    .dataframe tbody tr th {\n",
              "        vertical-align: top;\n",
              "    }\n",
              "\n",
              "    .dataframe thead th {\n",
              "        text-align: right;\n",
              "    }\n",
              "</style>\n",
              "<table border=\"1\" class=\"dataframe\">\n",
              "  <thead>\n",
              "    <tr style=\"text-align: right;\">\n",
              "      <th></th>\n",
              "      <th>P</th>\n",
              "      <th>T</th>\n",
              "      <th>Q</th>\n",
              "    </tr>\n",
              "    <tr>\n",
              "      <th>Date</th>\n",
              "      <th></th>\n",
              "      <th></th>\n",
              "      <th></th>\n",
              "    </tr>\n",
              "  </thead>\n",
              "  <tbody>\n",
              "    <tr>\n",
              "      <th>1981-01-01</th>\n",
              "      <td>0.43</td>\n",
              "      <td>-7.91</td>\n",
              "      <td>4.136</td>\n",
              "    </tr>\n",
              "    <tr>\n",
              "      <th>1981-01-02</th>\n",
              "      <td>0.33</td>\n",
              "      <td>-8.25</td>\n",
              "      <td>3.955</td>\n",
              "    </tr>\n",
              "    <tr>\n",
              "      <th>1981-01-03</th>\n",
              "      <td>0.00</td>\n",
              "      <td>-13.08</td>\n",
              "      <td>3.955</td>\n",
              "    </tr>\n",
              "    <tr>\n",
              "      <th>1981-01-04</th>\n",
              "      <td>0.03</td>\n",
              "      <td>-18.60</td>\n",
              "      <td>3.778</td>\n",
              "    </tr>\n",
              "    <tr>\n",
              "      <th>1981-01-05</th>\n",
              "      <td>0.00</td>\n",
              "      <td>-22.87</td>\n",
              "      <td>3.778</td>\n",
              "    </tr>\n",
              "    <tr>\n",
              "      <th>1981-01-06</th>\n",
              "      <td>0.00</td>\n",
              "      <td>-22.38</td>\n",
              "      <td>3.605</td>\n",
              "    </tr>\n",
              "    <tr>\n",
              "      <th>1981-01-07</th>\n",
              "      <td>1.48</td>\n",
              "      <td>-18.40</td>\n",
              "      <td>3.605</td>\n",
              "    </tr>\n",
              "    <tr>\n",
              "      <th>1981-01-08</th>\n",
              "      <td>7.79</td>\n",
              "      <td>-14.09</td>\n",
              "      <td>3.605</td>\n",
              "    </tr>\n",
              "    <tr>\n",
              "      <th>1981-01-09</th>\n",
              "      <td>0.43</td>\n",
              "      <td>-5.86</td>\n",
              "      <td>3.436</td>\n",
              "    </tr>\n",
              "    <tr>\n",
              "      <th>1981-01-10</th>\n",
              "      <td>6.18</td>\n",
              "      <td>-5.69</td>\n",
              "      <td>3.436</td>\n",
              "    </tr>\n",
              "    <tr>\n",
              "      <th>1981-01-11</th>\n",
              "      <td>0.04</td>\n",
              "      <td>-7.48</td>\n",
              "      <td>3.436</td>\n",
              "    </tr>\n",
              "    <tr>\n",
              "      <th>1981-01-12</th>\n",
              "      <td>3.89</td>\n",
              "      <td>-5.47</td>\n",
              "      <td>3.436</td>\n",
              "    </tr>\n",
              "    <tr>\n",
              "      <th>1981-01-13</th>\n",
              "      <td>0.00</td>\n",
              "      <td>-8.03</td>\n",
              "      <td>3.436</td>\n",
              "    </tr>\n",
              "    <tr>\n",
              "      <th>1981-01-14</th>\n",
              "      <td>1.09</td>\n",
              "      <td>-10.94</td>\n",
              "      <td>3.436</td>\n",
              "    </tr>\n",
              "    <tr>\n",
              "      <th>1981-01-15</th>\n",
              "      <td>3.85</td>\n",
              "      <td>-12.68</td>\n",
              "      <td>3.436</td>\n",
              "    </tr>\n",
              "    <tr>\n",
              "      <th>1981-01-16</th>\n",
              "      <td>6.36</td>\n",
              "      <td>-9.84</td>\n",
              "      <td>3.436</td>\n",
              "    </tr>\n",
              "    <tr>\n",
              "      <th>1981-01-17</th>\n",
              "      <td>5.68</td>\n",
              "      <td>-9.73</td>\n",
              "      <td>3.436</td>\n",
              "    </tr>\n",
              "    <tr>\n",
              "      <th>1981-01-18</th>\n",
              "      <td>0.00</td>\n",
              "      <td>-18.63</td>\n",
              "      <td>3.272</td>\n",
              "    </tr>\n",
              "    <tr>\n",
              "      <th>1981-01-19</th>\n",
              "      <td>0.07</td>\n",
              "      <td>-22.19</td>\n",
              "      <td>3.272</td>\n",
              "    </tr>\n",
              "    <tr>\n",
              "      <th>1981-01-20</th>\n",
              "      <td>0.08</td>\n",
              "      <td>-21.50</td>\n",
              "      <td>3.272</td>\n",
              "    </tr>\n",
              "    <tr>\n",
              "      <th>1981-01-21</th>\n",
              "      <td>1.32</td>\n",
              "      <td>-19.14</td>\n",
              "      <td>3.272</td>\n",
              "    </tr>\n",
              "    <tr>\n",
              "      <th>1981-01-22</th>\n",
              "      <td>0.28</td>\n",
              "      <td>-11.08</td>\n",
              "      <td>3.272</td>\n",
              "    </tr>\n",
              "    <tr>\n",
              "      <th>1981-01-23</th>\n",
              "      <td>0.00</td>\n",
              "      <td>-4.24</td>\n",
              "      <td>3.272</td>\n",
              "    </tr>\n",
              "    <tr>\n",
              "      <th>1981-01-24</th>\n",
              "      <td>0.00</td>\n",
              "      <td>-1.62</td>\n",
              "      <td>3.272</td>\n",
              "    </tr>\n",
              "    <tr>\n",
              "      <th>1981-01-25</th>\n",
              "      <td>0.15</td>\n",
              "      <td>-3.27</td>\n",
              "      <td>3.272</td>\n",
              "    </tr>\n",
              "    <tr>\n",
              "      <th>1981-01-26</th>\n",
              "      <td>0.04</td>\n",
              "      <td>-9.09</td>\n",
              "      <td>3.272</td>\n",
              "    </tr>\n",
              "    <tr>\n",
              "      <th>1981-01-27</th>\n",
              "      <td>0.00</td>\n",
              "      <td>-11.88</td>\n",
              "      <td>3.111</td>\n",
              "    </tr>\n",
              "    <tr>\n",
              "      <th>1981-01-28</th>\n",
              "      <td>0.00</td>\n",
              "      <td>-2.46</td>\n",
              "      <td>3.111</td>\n",
              "    </tr>\n",
              "    <tr>\n",
              "      <th>1981-01-29</th>\n",
              "      <td>0.00</td>\n",
              "      <td>4.43</td>\n",
              "      <td>2.955</td>\n",
              "    </tr>\n",
              "    <tr>\n",
              "      <th>1981-01-30</th>\n",
              "      <td>0.10</td>\n",
              "      <td>1.84</td>\n",
              "      <td>2.955</td>\n",
              "    </tr>\n",
              "    <tr>\n",
              "      <th>...</th>\n",
              "      <td>...</td>\n",
              "      <td>...</td>\n",
              "      <td>...</td>\n",
              "    </tr>\n",
              "    <tr>\n",
              "      <th>1981-03-12</th>\n",
              "      <td>4.32</td>\n",
              "      <td>-10.98</td>\n",
              "      <td>2.103</td>\n",
              "    </tr>\n",
              "    <tr>\n",
              "      <th>1981-03-13</th>\n",
              "      <td>1.00</td>\n",
              "      <td>-8.94</td>\n",
              "      <td>2.103</td>\n",
              "    </tr>\n",
              "    <tr>\n",
              "      <th>1981-03-14</th>\n",
              "      <td>0.12</td>\n",
              "      <td>-10.78</td>\n",
              "      <td>1.975</td>\n",
              "    </tr>\n",
              "    <tr>\n",
              "      <th>1981-03-15</th>\n",
              "      <td>0.00</td>\n",
              "      <td>-13.65</td>\n",
              "      <td>1.975</td>\n",
              "    </tr>\n",
              "    <tr>\n",
              "      <th>1981-03-16</th>\n",
              "      <td>0.11</td>\n",
              "      <td>-12.75</td>\n",
              "      <td>1.975</td>\n",
              "    </tr>\n",
              "    <tr>\n",
              "      <th>1981-03-17</th>\n",
              "      <td>0.20</td>\n",
              "      <td>-10.53</td>\n",
              "      <td>1.975</td>\n",
              "    </tr>\n",
              "    <tr>\n",
              "      <th>1981-03-18</th>\n",
              "      <td>0.00</td>\n",
              "      <td>-10.85</td>\n",
              "      <td>1.975</td>\n",
              "    </tr>\n",
              "    <tr>\n",
              "      <th>1981-03-19</th>\n",
              "      <td>2.20</td>\n",
              "      <td>-10.92</td>\n",
              "      <td>1.975</td>\n",
              "    </tr>\n",
              "    <tr>\n",
              "      <th>1981-03-20</th>\n",
              "      <td>0.16</td>\n",
              "      <td>-11.23</td>\n",
              "      <td>1.975</td>\n",
              "    </tr>\n",
              "    <tr>\n",
              "      <th>1981-03-21</th>\n",
              "      <td>0.00</td>\n",
              "      <td>-14.28</td>\n",
              "      <td>1.975</td>\n",
              "    </tr>\n",
              "    <tr>\n",
              "      <th>1981-03-22</th>\n",
              "      <td>9.60</td>\n",
              "      <td>-12.38</td>\n",
              "      <td>1.975</td>\n",
              "    </tr>\n",
              "    <tr>\n",
              "      <th>1981-03-23</th>\n",
              "      <td>9.80</td>\n",
              "      <td>-4.20</td>\n",
              "      <td>2.103</td>\n",
              "    </tr>\n",
              "    <tr>\n",
              "      <th>1981-03-24</th>\n",
              "      <td>0.42</td>\n",
              "      <td>-5.95</td>\n",
              "      <td>2.103</td>\n",
              "    </tr>\n",
              "    <tr>\n",
              "      <th>1981-03-25</th>\n",
              "      <td>0.00</td>\n",
              "      <td>-7.95</td>\n",
              "      <td>2.103</td>\n",
              "    </tr>\n",
              "    <tr>\n",
              "      <th>1981-03-26</th>\n",
              "      <td>0.00</td>\n",
              "      <td>-9.23</td>\n",
              "      <td>2.103</td>\n",
              "    </tr>\n",
              "    <tr>\n",
              "      <th>1981-03-27</th>\n",
              "      <td>0.00</td>\n",
              "      <td>-7.88</td>\n",
              "      <td>2.103</td>\n",
              "    </tr>\n",
              "    <tr>\n",
              "      <th>1981-03-28</th>\n",
              "      <td>0.39</td>\n",
              "      <td>-5.47</td>\n",
              "      <td>1.975</td>\n",
              "    </tr>\n",
              "    <tr>\n",
              "      <th>1981-03-29</th>\n",
              "      <td>0.06</td>\n",
              "      <td>-4.69</td>\n",
              "      <td>1.975</td>\n",
              "    </tr>\n",
              "    <tr>\n",
              "      <th>1981-03-30</th>\n",
              "      <td>0.00</td>\n",
              "      <td>-4.43</td>\n",
              "      <td>1.975</td>\n",
              "    </tr>\n",
              "    <tr>\n",
              "      <th>1981-03-31</th>\n",
              "      <td>0.00</td>\n",
              "      <td>-4.58</td>\n",
              "      <td>1.975</td>\n",
              "    </tr>\n",
              "    <tr>\n",
              "      <th>1981-04-01</th>\n",
              "      <td>0.00</td>\n",
              "      <td>-3.85</td>\n",
              "      <td>1.975</td>\n",
              "    </tr>\n",
              "    <tr>\n",
              "      <th>1981-04-02</th>\n",
              "      <td>0.02</td>\n",
              "      <td>-2.88</td>\n",
              "      <td>1.975</td>\n",
              "    </tr>\n",
              "    <tr>\n",
              "      <th>1981-04-03</th>\n",
              "      <td>9.28</td>\n",
              "      <td>-2.00</td>\n",
              "      <td>2.103</td>\n",
              "    </tr>\n",
              "    <tr>\n",
              "      <th>1981-04-04</th>\n",
              "      <td>1.19</td>\n",
              "      <td>-3.83</td>\n",
              "      <td>2.103</td>\n",
              "    </tr>\n",
              "    <tr>\n",
              "      <th>1981-04-05</th>\n",
              "      <td>0.00</td>\n",
              "      <td>-4.04</td>\n",
              "      <td>2.103</td>\n",
              "    </tr>\n",
              "    <tr>\n",
              "      <th>1981-04-06</th>\n",
              "      <td>0.00</td>\n",
              "      <td>-3.48</td>\n",
              "      <td>2.103</td>\n",
              "    </tr>\n",
              "    <tr>\n",
              "      <th>1981-04-07</th>\n",
              "      <td>0.00</td>\n",
              "      <td>-2.75</td>\n",
              "      <td>2.103</td>\n",
              "    </tr>\n",
              "    <tr>\n",
              "      <th>1981-04-08</th>\n",
              "      <td>0.00</td>\n",
              "      <td>-3.30</td>\n",
              "      <td>2.235</td>\n",
              "    </tr>\n",
              "    <tr>\n",
              "      <th>1981-04-09</th>\n",
              "      <td>0.55</td>\n",
              "      <td>-2.95</td>\n",
              "      <td>2.511</td>\n",
              "    </tr>\n",
              "    <tr>\n",
              "      <th>1981-04-10</th>\n",
              "      <td>0.60</td>\n",
              "      <td>-0.69</td>\n",
              "      <td>2.655</td>\n",
              "    </tr>\n",
              "  </tbody>\n",
              "</table>\n",
              "<p>100 rows × 3 columns</p>\n",
              "</div>"
            ],
            "text/plain": [
              "               P      T      Q\n",
              "Date                          \n",
              "1981-01-01  0.43  -7.91  4.136\n",
              "1981-01-02  0.33  -8.25  3.955\n",
              "1981-01-03  0.00 -13.08  3.955\n",
              "1981-01-04  0.03 -18.60  3.778\n",
              "1981-01-05  0.00 -22.87  3.778\n",
              "1981-01-06  0.00 -22.38  3.605\n",
              "1981-01-07  1.48 -18.40  3.605\n",
              "1981-01-08  7.79 -14.09  3.605\n",
              "1981-01-09  0.43  -5.86  3.436\n",
              "1981-01-10  6.18  -5.69  3.436\n",
              "1981-01-11  0.04  -7.48  3.436\n",
              "1981-01-12  3.89  -5.47  3.436\n",
              "1981-01-13  0.00  -8.03  3.436\n",
              "1981-01-14  1.09 -10.94  3.436\n",
              "1981-01-15  3.85 -12.68  3.436\n",
              "1981-01-16  6.36  -9.84  3.436\n",
              "1981-01-17  5.68  -9.73  3.436\n",
              "1981-01-18  0.00 -18.63  3.272\n",
              "1981-01-19  0.07 -22.19  3.272\n",
              "1981-01-20  0.08 -21.50  3.272\n",
              "1981-01-21  1.32 -19.14  3.272\n",
              "1981-01-22  0.28 -11.08  3.272\n",
              "1981-01-23  0.00  -4.24  3.272\n",
              "1981-01-24  0.00  -1.62  3.272\n",
              "1981-01-25  0.15  -3.27  3.272\n",
              "1981-01-26  0.04  -9.09  3.272\n",
              "1981-01-27  0.00 -11.88  3.111\n",
              "1981-01-28  0.00  -2.46  3.111\n",
              "1981-01-29  0.00   4.43  2.955\n",
              "1981-01-30  0.10   1.84  2.955\n",
              "...          ...    ...    ...\n",
              "1981-03-12  4.32 -10.98  2.103\n",
              "1981-03-13  1.00  -8.94  2.103\n",
              "1981-03-14  0.12 -10.78  1.975\n",
              "1981-03-15  0.00 -13.65  1.975\n",
              "1981-03-16  0.11 -12.75  1.975\n",
              "1981-03-17  0.20 -10.53  1.975\n",
              "1981-03-18  0.00 -10.85  1.975\n",
              "1981-03-19  2.20 -10.92  1.975\n",
              "1981-03-20  0.16 -11.23  1.975\n",
              "1981-03-21  0.00 -14.28  1.975\n",
              "1981-03-22  9.60 -12.38  1.975\n",
              "1981-03-23  9.80  -4.20  2.103\n",
              "1981-03-24  0.42  -5.95  2.103\n",
              "1981-03-25  0.00  -7.95  2.103\n",
              "1981-03-26  0.00  -9.23  2.103\n",
              "1981-03-27  0.00  -7.88  2.103\n",
              "1981-03-28  0.39  -5.47  1.975\n",
              "1981-03-29  0.06  -4.69  1.975\n",
              "1981-03-30  0.00  -4.43  1.975\n",
              "1981-03-31  0.00  -4.58  1.975\n",
              "1981-04-01  0.00  -3.85  1.975\n",
              "1981-04-02  0.02  -2.88  1.975\n",
              "1981-04-03  9.28  -2.00  2.103\n",
              "1981-04-04  1.19  -3.83  2.103\n",
              "1981-04-05  0.00  -4.04  2.103\n",
              "1981-04-06  0.00  -3.48  2.103\n",
              "1981-04-07  0.00  -2.75  2.103\n",
              "1981-04-08  0.00  -3.30  2.235\n",
              "1981-04-09  0.55  -2.95  2.511\n",
              "1981-04-10  0.60  -0.69  2.655\n",
              "\n",
              "[100 rows x 3 columns]"
            ]
          },
          "metadata": {
            "tags": []
          },
          "execution_count": 49
        }
      ]
    },
    {
      "cell_type": "code",
      "metadata": {
        "id": "wKn8k0T5ZMMs",
        "colab_type": "code",
        "colab": {}
      },
      "source": [
        "# split a univariate sequence into samples\n",
        "def split_sequence(sequence, n_steps_in, n_steps_out):\n",
        "\tX, y = list(), list()\n",
        "\tfor i in range(len(sequence)):\n",
        "\t\t# find the end of this pattern\n",
        "\t\tend_ix = i + n_steps_in\n",
        "\t\tout_end_ix = end_ix + n_steps_out\n",
        "\t\t# check if we are beyond the sequence\n",
        "\t\tif out_end_ix > len(sequence):\n",
        "\t\t\tbreak\n",
        "\t\t# gather input and output parts of the pattern\n",
        "\t\tseq_x, seq_y = sequence[i:end_ix], sequence[end_ix:out_end_ix]\n",
        "\t\tX.append(seq_x)\n",
        "\t\ty.append(seq_y)\n",
        "\treturn np.array(X), np.array(y)"
      ],
      "execution_count": 0,
      "outputs": []
    },
    {
      "cell_type": "code",
      "metadata": {
        "id": "8OznYQdPZStW",
        "colab_type": "code",
        "colab": {}
      },
      "source": [
        "values = data.to_numpy()\n",
        "values.shape\n",
        "n_steps_in, n_steps_out, n_features = 5, 1, 3"
      ],
      "execution_count": 0,
      "outputs": []
    },
    {
      "cell_type": "code",
      "metadata": {
        "id": "t29HW02ecRGJ",
        "colab_type": "code",
        "outputId": "d67ef93d-44a0-4eef-8c6a-bc81940609ef",
        "colab": {
          "base_uri": "https://localhost:8080/",
          "height": 123
        }
      },
      "source": [
        "values[0:6]"
      ],
      "execution_count": 0,
      "outputs": [
        {
          "output_type": "execute_result",
          "data": {
            "text/plain": [
              "array([[  0.43 ,  -7.91 ,   4.136],\n",
              "       [  0.33 ,  -8.25 ,   3.955],\n",
              "       [  0.   , -13.08 ,   3.955],\n",
              "       [  0.03 , -18.6  ,   3.778],\n",
              "       [  0.   , -22.87 ,   3.778],\n",
              "       [  0.   , -22.38 ,   3.605]])"
            ]
          },
          "metadata": {
            "tags": []
          },
          "execution_count": 58
        }
      ]
    },
    {
      "cell_type": "code",
      "metadata": {
        "id": "v00gKXM9macj",
        "colab_type": "code",
        "outputId": "17f45707-1533-4fb6-d4c4-d64be488b25f",
        "colab": {
          "base_uri": "https://localhost:8080/",
          "height": 539
        }
      },
      "source": [
        "plt.plot(values[5250:5270])"
      ],
      "execution_count": 0,
      "outputs": [
        {
          "output_type": "execute_result",
          "data": {
            "text/plain": [
              "[<matplotlib.lines.Line2D at 0x7fda45638550>,\n",
              " <matplotlib.lines.Line2D at 0x7fda456386a0>,\n",
              " <matplotlib.lines.Line2D at 0x7fda456387f0>]"
            ]
          },
          "metadata": {
            "tags": []
          },
          "execution_count": 146
        },
        {
          "output_type": "display_data",
          "data": {
            "image/png": "[encoded data removed]",
            "text/plain": [
              "<Figure size 1080x576 with 1 Axes>"
            ]
          },
          "metadata": {
            "tags": []
          }
        }
      ]
    },
    {
      "cell_type": "code",
      "metadata": {
        "id": "9rQevOIubMRS",
        "colab_type": "code",
        "outputId": "92ea49c7-7517-4afd-e9cf-20b1adf65363",
        "colab": {
          "base_uri": "https://localhost:8080/",
          "height": 105
        }
      },
      "source": [
        "X, Y = split_sequence(values, n_steps_in, n_steps_out)\n",
        "X[0], Y[0]"
      ],
      "execution_count": 0,
      "outputs": [
        {
          "output_type": "execute_result",
          "data": {
            "text/plain": [
              "(array([[  0.43 ,  -7.91 ,   4.136],\n",
              "        [  0.33 ,  -8.25 ,   3.955],\n",
              "        [  0.   , -13.08 ,   3.955],\n",
              "        [  0.03 , -18.6  ,   3.778],\n",
              "        [  0.   , -22.87 ,   3.778]]), array([[  0.   , -22.38 ,   3.605]]))"
            ]
          },
          "metadata": {
            "tags": []
          },
          "execution_count": 73
        }
      ]
    },
    {
      "cell_type": "code",
      "metadata": {
        "id": "27QonmZgduuN",
        "colab_type": "code",
        "colab": {}
      },
      "source": [
        "Y = Y.reshape(Y.shape[0], Y.shape[2])"
      ],
      "execution_count": 0,
      "outputs": []
    },
    {
      "cell_type": "code",
      "metadata": {
        "id": "qkaaHNx8dMV0",
        "colab_type": "code",
        "colab": {}
      },
      "source": [
        "# Gives us a well defined version of tensorflow\n",
        "\n",
        "try:\n",
        "  # %tensorflow_version only exists in Colab.\n",
        "  %tensorflow_version 2.x\n",
        "except Exception:\n",
        "  pass"
      ],
      "execution_count": 0,
      "outputs": []
    },
    {
      "cell_type": "code",
      "metadata": {
        "id": "VN6hKQpSdWcf",
        "colab_type": "code",
        "outputId": "0826edae-b418-4b54-fca9-2652c9125a0a",
        "colab": {
          "base_uri": "https://localhost:8080/",
          "height": 228
        }
      },
      "source": [
        "import tensorflow as tf\n",
        "from tensorflow import keras\n",
        "from tensorflow.keras.layers import Dense, LSTM, GRU, SimpleRNN, Bidirectional\n",
        "from tensorflow.keras.models import Sequential, Model\n",
        "\n",
        "model = Sequential()\n",
        "model.add(GRU(100, activation='relu', input_shape=(n_steps_in, n_features)))\n",
        "# model.add(GRU(100, activation='relu', return_sequences=True, input_shape=(n_steps_in, n_features)))\n",
        "# model.add(GRU(100, activation='relu'))\n",
        "model.add(Dense(n_features))\n",
        "model.compile(optimizer='adam', loss='mse')\n",
        "model.summary()"
      ],
      "execution_count": 0,
      "outputs": [
        {
          "output_type": "stream",
          "text": [
            "Model: \"sequential_1\"\n",
            "_________________________________________________________________\n",
            "Layer (type)                 Output Shape              Param #   \n",
            "=================================================================\n",
            "gru_1 (GRU)                  (None, 100)               31500     \n",
            "_________________________________________________________________\n",
            "dense_1 (Dense)              (None, 3)                 303       \n",
            "=================================================================\n",
            "Total params: 31,803\n",
            "Trainable params: 31,803\n",
            "Non-trainable params: 0\n",
            "_________________________________________________________________\n"
          ],
          "name": "stdout"
        }
      ]
    },
    {
      "cell_type": "code",
      "metadata": {
        "id": "r-SCWt4EeiHF",
        "colab_type": "code",
        "outputId": "f14b6875-3127-4094-8893-e731bb2a90c4",
        "colab": {
          "base_uri": "https://localhost:8080/",
          "height": 52
        }
      },
      "source": [
        "%%time\n",
        "\n",
        "history = model.fit(X, Y, epochs=100, verbose=0)"
      ],
      "execution_count": 0,
      "outputs": [
        {
          "output_type": "stream",
          "text": [
            "CPU times: user 6min 32s, sys: 11 s, total: 6min 43s\n",
            "Wall time: 4min 2s\n"
          ],
          "name": "stdout"
        }
      ]
    },
    {
      "cell_type": "code",
      "metadata": {
        "id": "ezoKqYI0f3Ln",
        "colab_type": "code",
        "outputId": "860c208f-e49f-4868-eaa4-3ba796414884",
        "colab": {
          "base_uri": "https://localhost:8080/",
          "height": 503
        }
      },
      "source": [
        "import matplotlib.pyplot as plt\n",
        "\n",
        "plt.figure(figsize=(20,8))\n",
        "\n",
        "#plt.yscale('log')\n",
        "plt.plot(history.history['loss'])"
      ],
      "execution_count": 0,
      "outputs": [
        {
          "output_type": "execute_result",
          "data": {
            "text/plain": [
              "[<matplotlib.lines.Line2D at 0x7fda4ba8fb38>]"
            ]
          },
          "metadata": {
            "tags": []
          },
          "execution_count": 102
        },
        {
          "output_type": "display_data",
          "data": {
            "image/png": "[encoded data removed]",
            "text/plain": [
              "<Figure size 1440x576 with 1 Axes>"
            ]
          },
          "metadata": {
            "tags": []
          }
        }
      ]
    },
    {
      "cell_type": "code",
      "metadata": {
        "id": "XoSX0if3gRjZ",
        "colab_type": "code",
        "outputId": "f580ea7a-42df-4193-832e-96311a63e68b",
        "colab": {
          "base_uri": "https://localhost:8080/",
          "height": 105
        }
      },
      "source": [
        "final = X[-2]\n",
        "final"
      ],
      "execution_count": 0,
      "outputs": [
        {
          "output_type": "execute_result",
          "data": {
            "text/plain": [
              "array([[ 1.000e-02, -1.093e+01,  4.545e+00],\n",
              "       [ 3.230e+00, -3.190e+00,  4.661e+00],\n",
              "       [ 5.420e+00, -3.260e+00,  4.688e+00],\n",
              "       [ 3.700e-01, -8.560e+00,  4.690e+00],\n",
              "       [ 4.290e+00, -5.690e+00,  4.773e+00]])"
            ]
          },
          "metadata": {
            "tags": []
          },
          "execution_count": 103
        }
      ]
    },
    {
      "cell_type": "code",
      "metadata": {
        "id": "ff3CJrZMgl1X",
        "colab_type": "code",
        "outputId": "c4c13b21-0274-4b2b-b72f-aedf6650918b",
        "colab": {
          "base_uri": "https://localhost:8080/",
          "height": 35
        }
      },
      "source": [
        "final.shape"
      ],
      "execution_count": 0,
      "outputs": [
        {
          "output_type": "execute_result",
          "data": {
            "text/plain": [
              "(5, 3)"
            ]
          },
          "metadata": {
            "tags": []
          },
          "execution_count": 104
        }
      ]
    },
    {
      "cell_type": "code",
      "metadata": {
        "id": "gwsLgqWkf6xy",
        "colab_type": "code",
        "outputId": "3ec74c17-4ec3-4770-f948-1ca6ce474d19",
        "colab": {
          "base_uri": "https://localhost:8080/",
          "height": 35
        }
      },
      "source": [
        "prediction = model.predict(final.reshape(1, 5, 3))\n",
        "prediction"
      ],
      "execution_count": 0,
      "outputs": [
        {
          "output_type": "execute_result",
          "data": {
            "text/plain": [
              "array([[ 0.37324744, -6.9555106 ,  4.5635037 ]], dtype=float32)"
            ]
          },
          "metadata": {
            "tags": []
          },
          "execution_count": 105
        }
      ]
    },
    {
      "cell_type": "code",
      "metadata": {
        "id": "WuAPtJTkg_eD",
        "colab_type": "code",
        "outputId": "d2b28dc0-d2c7-48ea-b91f-5f53377ef6a9",
        "colab": {
          "base_uri": "https://localhost:8080/",
          "height": 35
        }
      },
      "source": [
        "Y[-1]"
      ],
      "execution_count": 0,
      "outputs": [
        {
          "output_type": "execute_result",
          "data": {
            "text/plain": [
              "array([  0.92 , -12.27 ,   4.646])"
            ]
          },
          "metadata": {
            "tags": []
          },
          "execution_count": 106
        }
      ]
    }
  ]
}